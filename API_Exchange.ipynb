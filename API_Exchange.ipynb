{
 "cells": [
  {
   "cell_type": "markdown",
   "metadata": {},
   "source": [
    "# Neste código utilizaremos uma API da RapidAPI para fazer uma tabela que compara taxas de câmbio. "
   ]
  },
  {
   "cell_type": "markdown",
   "metadata": {},
   "source": [
    "**Importanto listquotes** (Após logar no Rapid.API)"
   ]
  },
  {
   "cell_type": "code",
   "execution_count": 4,
   "metadata": {},
   "outputs": [
    {
     "name": "stdout",
     "output_type": "stream",
     "text": [
      "['SGD', 'MYR', 'EUR', 'USD', 'AUD', 'JPY', 'CNH', 'HKD', 'CAD', 'INR', 'DKK', 'GBP', 'RUB', 'NZD', 'MXN', 'IDR', 'TWD', 'THB', 'VND']\n"
     ]
    }
   ],
   "source": [
    "import requests\n",
    "\n",
    "url = \"https://currency-exchange.p.rapidapi.com/listquotes\"\n",
    "\n",
    "headers = {\n",
    "\t\"X-RapidAPI-Key\": \"USE_SUA_KEY\",\n",
    "\t\"X-RapidAPI-Host\": \"currency-exchange.p.rapidapi.com\"\n",
    "}\n",
    "\n",
    "response = requests.get(url, headers=headers)\n",
    "\n",
    "print(response.json())"
   ]
  },
  {
   "cell_type": "markdown",
   "metadata": {},
   "source": [
    "**Abrindo exchange**"
   ]
  },
  {
   "cell_type": "code",
   "execution_count": 5,
   "metadata": {},
   "outputs": [
    {
     "name": "stdout",
     "output_type": "stream",
     "text": [
      "3.482799609\n"
     ]
    },
    {
     "data": {
      "text/plain": [
       "200"
      ]
     },
     "execution_count": 5,
     "metadata": {},
     "output_type": "execute_result"
    }
   ],
   "source": [
    "import requests\n",
    "\n",
    "url = \"https://currency-exchange.p.rapidapi.com/exchange\"\n",
    "\n",
    "querystring = {\"from\":\"SGD\",\"to\":\"MYR\",\"q\":\"1.0\"}\n",
    "\n",
    "headers = {\n",
    "\t\"X-RapidAPI-Key\": \"USE_SUA_KEY\",\n",
    "\t\"X-RapidAPI-Host\": \"currency-exchange.p.rapidapi.com\"\n",
    "}\n",
    "\n",
    "response = requests.get(url, headers=headers, params=querystring)\n",
    "\n",
    "print(response.json())\n",
    "response.status_code \n"
   ]
  },
  {
   "cell_type": "code",
   "execution_count": 7,
   "metadata": {},
   "outputs": [
    {
     "name": "stdout",
     "output_type": "stream",
     "text": [
      "  from_currency to_currency  exchange_rate\n",
      "0           SGD         USD       0.742942\n",
      "1           MYR         USD       0.213333\n",
      "2           EUR         USD       1.089450\n",
      "3           BRL         USD       0.195902\n"
     ]
    }
   ],
   "source": [
    "import pandas as pd\n",
    "import requests\n",
    "\n",
    "def get_exchange_rate(from_currency):\n",
    "    url = \"https://currency-exchange.p.rapidapi.com/exchange\"\n",
    "    querystring = {\"from\": from_currency, \"to\": \"USD\", \"q\": \"1.0\"}\n",
    "    headers = {\n",
    "        \"X-RapidAPI-Key\": \"USE_SUA_KEY\",\n",
    "        \"X-RapidAPI-Host\": \"currency-exchange.p.rapidapi.com\"\n",
    "    }\n",
    "    response = requests.get(url, headers=headers, params=querystring)\n",
    "    return response.json()\n",
    "\n",
    "currencies = ['SGD', 'MYR', 'EUR', 'BRL']\n",
    "\n",
    "data = []\n",
    "\n",
    "for from_currency in currencies:\n",
    "    exchange_rate = get_exchange_rate(from_currency)\n",
    "    data.append({'from_currency': from_currency, 'to_currency': 'USD', 'exchange_rate': exchange_rate})\n",
    "\n",
    "df = pd.DataFrame(data)\n",
    "\n",
    "print(df.head())\n",
    "\n"
   ]
  },
  {
   "cell_type": "markdown",
   "metadata": {},
   "source": [
    "É possível expandir o código para todas as moedas e inúmeras datas. "
   ]
  }
 ],
 "metadata": {
  "kernelspec": {
   "display_name": "venv",
   "language": "python",
   "name": "python3"
  },
  "language_info": {
   "codemirror_mode": {
    "name": "ipython",
    "version": 3
   },
   "file_extension": ".py",
   "mimetype": "text/x-python",
   "name": "python",
   "nbconvert_exporter": "python",
   "pygments_lexer": "ipython3",
   "version": "3.10.12"
  }
 },
 "nbformat": 4,
 "nbformat_minor": 2
}
